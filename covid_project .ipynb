{
 "cells": [
  {
   "cell_type": "markdown",
   "metadata": {},
   "source": [
    "#                              Python For Data Science\n",
    "\n",
    "                                    \n",
    "#                                                 By: Chirag Dhankani\n",
    "\n",
    "#### Date: 12/08/2020"
   ]
  },
  {
   "cell_type": "markdown",
   "metadata": {},
   "source": [
    "# Importing Libraries"
   ]
  },
  {
   "cell_type": "code",
   "execution_count": 1,
   "metadata": {},
   "outputs": [],
   "source": [
    "import pandas as pd\n",
    "import csv\n",
    "import matplotlib.pyplot as plt\n",
    "%matplotlib inline\n",
    "from datetime import datetime"
   ]
  },
  {
   "cell_type": "markdown",
   "metadata": {},
   "source": [
    "### Importing the required Data frame"
   ]
  },
  {
   "cell_type": "code",
   "execution_count": 27,
   "metadata": {},
   "outputs": [
    {
     "name": "stdout",
     "output_type": "stream",
     "text": [
      "(34037, 8)\n"
     ]
    },
    {
     "data": {
      "text/html": [
       "<div>\n",
       "<style scoped>\n",
       "    .dataframe tbody tr th:only-of-type {\n",
       "        vertical-align: middle;\n",
       "    }\n",
       "\n",
       "    .dataframe tbody tr th {\n",
       "        vertical-align: top;\n",
       "    }\n",
       "\n",
       "    .dataframe thead th {\n",
       "        text-align: right;\n",
       "    }\n",
       "</style>\n",
       "<table border=\"1\" class=\"dataframe\">\n",
       "  <thead>\n",
       "    <tr style=\"text-align: right;\">\n",
       "      <th></th>\n",
       "      <th>Date_reported</th>\n",
       "      <th>Country_code</th>\n",
       "      <th>Country</th>\n",
       "      <th>WHO_region</th>\n",
       "      <th>New_cases</th>\n",
       "      <th>Cumulative_cases</th>\n",
       "      <th>New_deaths</th>\n",
       "      <th>Cumulative_deaths</th>\n",
       "    </tr>\n",
       "  </thead>\n",
       "  <tbody>\n",
       "    <tr>\n",
       "      <th>0</th>\n",
       "      <td>2020-02-24</td>\n",
       "      <td>AF</td>\n",
       "      <td>Afghanistan</td>\n",
       "      <td>EMRO</td>\n",
       "      <td>5</td>\n",
       "      <td>5</td>\n",
       "      <td>0</td>\n",
       "      <td>0</td>\n",
       "    </tr>\n",
       "    <tr>\n",
       "      <th>1</th>\n",
       "      <td>2020-02-25</td>\n",
       "      <td>AF</td>\n",
       "      <td>Afghanistan</td>\n",
       "      <td>EMRO</td>\n",
       "      <td>0</td>\n",
       "      <td>5</td>\n",
       "      <td>0</td>\n",
       "      <td>0</td>\n",
       "    </tr>\n",
       "    <tr>\n",
       "      <th>2</th>\n",
       "      <td>2020-02-26</td>\n",
       "      <td>AF</td>\n",
       "      <td>Afghanistan</td>\n",
       "      <td>EMRO</td>\n",
       "      <td>0</td>\n",
       "      <td>5</td>\n",
       "      <td>0</td>\n",
       "      <td>0</td>\n",
       "    </tr>\n",
       "    <tr>\n",
       "      <th>3</th>\n",
       "      <td>2020-02-27</td>\n",
       "      <td>AF</td>\n",
       "      <td>Afghanistan</td>\n",
       "      <td>EMRO</td>\n",
       "      <td>0</td>\n",
       "      <td>5</td>\n",
       "      <td>0</td>\n",
       "      <td>0</td>\n",
       "    </tr>\n",
       "    <tr>\n",
       "      <th>4</th>\n",
       "      <td>2020-02-28</td>\n",
       "      <td>AF</td>\n",
       "      <td>Afghanistan</td>\n",
       "      <td>EMRO</td>\n",
       "      <td>0</td>\n",
       "      <td>5</td>\n",
       "      <td>0</td>\n",
       "      <td>0</td>\n",
       "    </tr>\n",
       "  </tbody>\n",
       "</table>\n",
       "</div>"
      ],
      "text/plain": [
       "  Date_reported Country_code      Country WHO_region  New_cases  \\\n",
       "0    2020-02-24           AF  Afghanistan       EMRO          5   \n",
       "1    2020-02-25           AF  Afghanistan       EMRO          0   \n",
       "2    2020-02-26           AF  Afghanistan       EMRO          0   \n",
       "3    2020-02-27           AF  Afghanistan       EMRO          0   \n",
       "4    2020-02-28           AF  Afghanistan       EMRO          0   \n",
       "\n",
       "   Cumulative_cases  New_deaths  Cumulative_deaths  \n",
       "0                 5           0                  0  \n",
       "1                 5           0                  0  \n",
       "2                 5           0                  0  \n",
       "3                 5           0                  0  \n",
       "4                 5           0                  0  "
      ]
     },
     "execution_count": 27,
     "metadata": {},
     "output_type": "execute_result"
    }
   ],
   "source": [
    "df = pd.read_csv(\"Covid Data WHO.csv\", parse_dates=[\"Date_reported\"])          ###The Data was taken from the official \n",
    "df.columns = df.columns.str.strip()                                            ### website Of \"WHO\" On Date: 11Th August 2020\n",
    "print(df.shape)\n",
    "df.head()"
   ]
  },
  {
   "cell_type": "markdown",
   "metadata": {},
   "source": [
    "# Objectives:\n",
    "# - Studying the Data of Sars Cov-2 of Several Countries\n",
    "# - Identifying Best and Worst performing Countries \n",
    "# - Forecasting India's Total No. of Cases in next week"
   ]
  },
  {
   "cell_type": "markdown",
   "metadata": {},
   "source": [
    "## Some Data Cleaning"
   ]
  },
  {
   "cell_type": "code",
   "execution_count": 4,
   "metadata": {},
   "outputs": [
    {
     "data": {
      "text/html": [
       "<div>\n",
       "<style scoped>\n",
       "    .dataframe tbody tr th:only-of-type {\n",
       "        vertical-align: middle;\n",
       "    }\n",
       "\n",
       "    .dataframe tbody tr th {\n",
       "        vertical-align: top;\n",
       "    }\n",
       "\n",
       "    .dataframe thead th {\n",
       "        text-align: right;\n",
       "    }\n",
       "</style>\n",
       "<table border=\"1\" class=\"dataframe\">\n",
       "  <thead>\n",
       "    <tr style=\"text-align: right;\">\n",
       "      <th></th>\n",
       "      <th>Date</th>\n",
       "      <th>Country</th>\n",
       "      <th>Cases</th>\n",
       "    </tr>\n",
       "  </thead>\n",
       "  <tbody>\n",
       "    <tr>\n",
       "      <th>0</th>\n",
       "      <td>2020-02-24</td>\n",
       "      <td>Afghanistan</td>\n",
       "      <td>5</td>\n",
       "    </tr>\n",
       "    <tr>\n",
       "      <th>1</th>\n",
       "      <td>2020-02-25</td>\n",
       "      <td>Afghanistan</td>\n",
       "      <td>5</td>\n",
       "    </tr>\n",
       "    <tr>\n",
       "      <th>2</th>\n",
       "      <td>2020-02-26</td>\n",
       "      <td>Afghanistan</td>\n",
       "      <td>5</td>\n",
       "    </tr>\n",
       "    <tr>\n",
       "      <th>3</th>\n",
       "      <td>2020-02-27</td>\n",
       "      <td>Afghanistan</td>\n",
       "      <td>5</td>\n",
       "    </tr>\n",
       "    <tr>\n",
       "      <th>4</th>\n",
       "      <td>2020-02-28</td>\n",
       "      <td>Afghanistan</td>\n",
       "      <td>5</td>\n",
       "    </tr>\n",
       "  </tbody>\n",
       "</table>\n",
       "</div>"
      ],
      "text/plain": [
       "        Date      Country  Cases\n",
       "0 2020-02-24  Afghanistan      5\n",
       "1 2020-02-25  Afghanistan      5\n",
       "2 2020-02-26  Afghanistan      5\n",
       "3 2020-02-27  Afghanistan      5\n",
       "4 2020-02-28  Afghanistan      5"
      ]
     },
     "execution_count": 4,
     "metadata": {},
     "output_type": "execute_result"
    }
   ],
   "source": [
    "Covid = df[[ 'Date_reported','Country','Cumulative_cases']].copy()\n",
    "Covid = Covid.rename(columns={'Date_reported':'Date'})\n",
    "Covid = Covid.rename(columns={'Cumulative_cases':'Cases'})\n",
    "Covid.head()"
   ]
  },
  {
   "cell_type": "markdown",
   "metadata": {},
   "source": [
    "### Q. Now let's see how many Days of Data do we have"
   ]
  },
  {
   "cell_type": "code",
   "execution_count": 5,
   "metadata": {},
   "outputs": [
    {
     "data": {
      "text/plain": [
       "220"
      ]
     },
     "execution_count": 5,
     "metadata": {},
     "output_type": "execute_result"
    }
   ],
   "source": [
    "Days =Covid['Date'].unique().tolist()\n",
    "len(Days)"
   ]
  },
  {
   "cell_type": "markdown",
   "metadata": {},
   "source": [
    "### Q. What's The Range of the Days"
   ]
  },
  {
   "cell_type": "code",
   "execution_count": 6,
   "metadata": {},
   "outputs": [
    {
     "name": "stdout",
     "output_type": "stream",
     "text": [
      "Date Format-(YYYY/MM/DD)\n",
      "2020-02-24 00:00:00\n",
      "to\n",
      "2020-08-10 00:00:00\n"
     ]
    }
   ],
   "source": [
    "print('Date Format-(YYYY/MM/DD)')\n",
    "print(Covid['Date'].iloc[0])\n",
    "print(\"to\")\n",
    "print(Covid['Date'].iloc[-1])"
   ]
  },
  {
   "cell_type": "markdown",
   "metadata": {},
   "source": [
    "### Q. Identifying and Plotting top 5 worst hit countries as of 10th August 2020"
   ]
  },
  {
   "cell_type": "code",
   "execution_count": 7,
   "metadata": {},
   "outputs": [
    {
     "data": {
      "text/html": [
       "<div>\n",
       "<style scoped>\n",
       "    .dataframe tbody tr th:only-of-type {\n",
       "        vertical-align: middle;\n",
       "    }\n",
       "\n",
       "    .dataframe tbody tr th {\n",
       "        vertical-align: top;\n",
       "    }\n",
       "\n",
       "    .dataframe thead th {\n",
       "        text-align: right;\n",
       "    }\n",
       "</style>\n",
       "<table border=\"1\" class=\"dataframe\">\n",
       "  <thead>\n",
       "    <tr style=\"text-align: right;\">\n",
       "      <th></th>\n",
       "      <th>Country</th>\n",
       "      <th>Cases</th>\n",
       "    </tr>\n",
       "    <tr>\n",
       "      <th>Date</th>\n",
       "      <th></th>\n",
       "      <th></th>\n",
       "    </tr>\n",
       "  </thead>\n",
       "  <tbody>\n",
       "    <tr>\n",
       "      <th>2020-08-10</th>\n",
       "      <td>United States of America</td>\n",
       "      <td>4951851</td>\n",
       "    </tr>\n",
       "    <tr>\n",
       "      <th>2020-08-10</th>\n",
       "      <td>Brazil</td>\n",
       "      <td>3012412</td>\n",
       "    </tr>\n",
       "    <tr>\n",
       "      <th>2020-08-10</th>\n",
       "      <td>India</td>\n",
       "      <td>2215074</td>\n",
       "    </tr>\n",
       "    <tr>\n",
       "      <th>2020-08-10</th>\n",
       "      <td>Russian Federation</td>\n",
       "      <td>892654</td>\n",
       "    </tr>\n",
       "    <tr>\n",
       "      <th>2020-08-10</th>\n",
       "      <td>South Africa</td>\n",
       "      <td>559859</td>\n",
       "    </tr>\n",
       "  </tbody>\n",
       "</table>\n",
       "</div>"
      ],
      "text/plain": [
       "                             Country    Cases\n",
       "Date                                         \n",
       "2020-08-10  United States of America  4951851\n",
       "2020-08-10                    Brazil  3012412\n",
       "2020-08-10                     India  2215074\n",
       "2020-08-10        Russian Federation   892654\n",
       "2020-08-10              South Africa   559859"
      ]
     },
     "execution_count": 7,
     "metadata": {},
     "output_type": "execute_result"
    }
   ],
   "source": [
    "Top5 = Covid.set_index('Date')\n",
    "Top5 = Top5.loc['2020-08-10']\n",
    "Top5 = Top5.sort_values(['Cases'], ascending=[0])\n",
    "Top5.head()"
   ]
  },
  {
   "cell_type": "markdown",
   "metadata": {},
   "source": [
    "#### let's plot these 5 countries and se graphically rise in number of cases on monthly bases"
   ]
  },
  {
   "cell_type": "markdown",
   "metadata": {},
   "source": [
    "Step1: Creating a Pivot table "
   ]
  },
  {
   "cell_type": "code",
   "execution_count": 64,
   "metadata": {},
   "outputs": [
    {
     "data": {
      "text/html": [
       "<div>\n",
       "<style scoped>\n",
       "    .dataframe tbody tr th:only-of-type {\n",
       "        vertical-align: middle;\n",
       "    }\n",
       "\n",
       "    .dataframe tbody tr th {\n",
       "        vertical-align: top;\n",
       "    }\n",
       "\n",
       "    .dataframe thead th {\n",
       "        text-align: right;\n",
       "    }\n",
       "</style>\n",
       "<table border=\"1\" class=\"dataframe\">\n",
       "  <thead>\n",
       "    <tr style=\"text-align: right;\">\n",
       "      <th>Country</th>\n",
       "      <th>Afghanistan</th>\n",
       "      <th>Albania</th>\n",
       "      <th>Algeria</th>\n",
       "      <th>Andorra</th>\n",
       "      <th>Angola</th>\n",
       "      <th>Anguilla</th>\n",
       "      <th>Antigua and Barbuda</th>\n",
       "      <th>Argentina</th>\n",
       "      <th>Armenia</th>\n",
       "      <th>Aruba</th>\n",
       "      <th>...</th>\n",
       "      <th>United States Virgin Islands</th>\n",
       "      <th>United States of America</th>\n",
       "      <th>Uruguay</th>\n",
       "      <th>Uzbekistan</th>\n",
       "      <th>Venezuela (Bolivarian Republic of)</th>\n",
       "      <th>Viet Nam</th>\n",
       "      <th>Yemen</th>\n",
       "      <th>Zambia</th>\n",
       "      <th>Zimbabwe</th>\n",
       "      <th>occupied Palestinian territory, including east Jerusalem</th>\n",
       "    </tr>\n",
       "    <tr>\n",
       "      <th>Date</th>\n",
       "      <th></th>\n",
       "      <th></th>\n",
       "      <th></th>\n",
       "      <th></th>\n",
       "      <th></th>\n",
       "      <th></th>\n",
       "      <th></th>\n",
       "      <th></th>\n",
       "      <th></th>\n",
       "      <th></th>\n",
       "      <th></th>\n",
       "      <th></th>\n",
       "      <th></th>\n",
       "      <th></th>\n",
       "      <th></th>\n",
       "      <th></th>\n",
       "      <th></th>\n",
       "      <th></th>\n",
       "      <th></th>\n",
       "      <th></th>\n",
       "      <th></th>\n",
       "    </tr>\n",
       "  </thead>\n",
       "  <tbody>\n",
       "    <tr>\n",
       "      <th>2020-08-06</th>\n",
       "      <td>36896.0</td>\n",
       "      <td>5889.0</td>\n",
       "      <td>33055.0</td>\n",
       "      <td>939.0</td>\n",
       "      <td>1395.0</td>\n",
       "      <td>3.0</td>\n",
       "      <td>92.0</td>\n",
       "      <td>213535.0</td>\n",
       "      <td>39819.0</td>\n",
       "      <td>132.0</td>\n",
       "      <td>...</td>\n",
       "      <td>481.0</td>\n",
       "      <td>4728239.0</td>\n",
       "      <td>1300.0</td>\n",
       "      <td>28069.0</td>\n",
       "      <td>21438.0</td>\n",
       "      <td>717.0</td>\n",
       "      <td>1767.0</td>\n",
       "      <td>7022.0</td>\n",
       "      <td>4339.0</td>\n",
       "      <td>16981.0</td>\n",
       "    </tr>\n",
       "    <tr>\n",
       "      <th>2020-08-07</th>\n",
       "      <td>36937.0</td>\n",
       "      <td>6016.0</td>\n",
       "      <td>33626.0</td>\n",
       "      <td>945.0</td>\n",
       "      <td>1483.0</td>\n",
       "      <td>3.0</td>\n",
       "      <td>92.0</td>\n",
       "      <td>220682.0</td>\n",
       "      <td>39885.0</td>\n",
       "      <td>171.0</td>\n",
       "      <td>...</td>\n",
       "      <td>501.0</td>\n",
       "      <td>4781612.0</td>\n",
       "      <td>1309.0</td>\n",
       "      <td>28809.0</td>\n",
       "      <td>22299.0</td>\n",
       "      <td>750.0</td>\n",
       "      <td>1767.0</td>\n",
       "      <td>7164.0</td>\n",
       "      <td>4395.0</td>\n",
       "      <td>17434.0</td>\n",
       "    </tr>\n",
       "    <tr>\n",
       "      <th>2020-08-08</th>\n",
       "      <td>37015.0</td>\n",
       "      <td>6151.0</td>\n",
       "      <td>34155.0</td>\n",
       "      <td>956.0</td>\n",
       "      <td>1538.0</td>\n",
       "      <td>3.0</td>\n",
       "      <td>92.0</td>\n",
       "      <td>228195.0</td>\n",
       "      <td>40185.0</td>\n",
       "      <td>263.0</td>\n",
       "      <td>...</td>\n",
       "      <td>522.0</td>\n",
       "      <td>4836930.0</td>\n",
       "      <td>1318.0</td>\n",
       "      <td>29459.0</td>\n",
       "      <td>23280.0</td>\n",
       "      <td>789.0</td>\n",
       "      <td>1800.0</td>\n",
       "      <td>7164.0</td>\n",
       "      <td>4451.0</td>\n",
       "      <td>17948.0</td>\n",
       "    </tr>\n",
       "    <tr>\n",
       "      <th>2020-08-09</th>\n",
       "      <td>37054.0</td>\n",
       "      <td>6275.0</td>\n",
       "      <td>34693.0</td>\n",
       "      <td>956.0</td>\n",
       "      <td>1572.0</td>\n",
       "      <td>3.0</td>\n",
       "      <td>92.0</td>\n",
       "      <td>235677.0</td>\n",
       "      <td>40410.0</td>\n",
       "      <td>263.0</td>\n",
       "      <td>...</td>\n",
       "      <td>528.0</td>\n",
       "      <td>4897958.0</td>\n",
       "      <td>1325.0</td>\n",
       "      <td>30197.0</td>\n",
       "      <td>24166.0</td>\n",
       "      <td>812.0</td>\n",
       "      <td>1801.0</td>\n",
       "      <td>7903.0</td>\n",
       "      <td>4575.0</td>\n",
       "      <td>18374.0</td>\n",
       "    </tr>\n",
       "    <tr>\n",
       "      <th>2020-08-10</th>\n",
       "      <td>37054.0</td>\n",
       "      <td>6411.0</td>\n",
       "      <td>35214.0</td>\n",
       "      <td>956.0</td>\n",
       "      <td>1672.0</td>\n",
       "      <td>3.0</td>\n",
       "      <td>92.0</td>\n",
       "      <td>241811.0</td>\n",
       "      <td>40433.0</td>\n",
       "      <td>263.0</td>\n",
       "      <td>...</td>\n",
       "      <td>528.0</td>\n",
       "      <td>4951851.0</td>\n",
       "      <td>1335.0</td>\n",
       "      <td>30820.0</td>\n",
       "      <td>24961.0</td>\n",
       "      <td>841.0</td>\n",
       "      <td>1808.0</td>\n",
       "      <td>8085.0</td>\n",
       "      <td>4649.0</td>\n",
       "      <td>18651.0</td>\n",
       "    </tr>\n",
       "  </tbody>\n",
       "</table>\n",
       "<p>5 rows × 216 columns</p>\n",
       "</div>"
      ],
      "text/plain": [
       "Country     Afghanistan  Albania  Algeria  Andorra  Angola  Anguilla  \\\n",
       "Date                                                                   \n",
       "2020-08-06      36896.0   5889.0  33055.0    939.0  1395.0       3.0   \n",
       "2020-08-07      36937.0   6016.0  33626.0    945.0  1483.0       3.0   \n",
       "2020-08-08      37015.0   6151.0  34155.0    956.0  1538.0       3.0   \n",
       "2020-08-09      37054.0   6275.0  34693.0    956.0  1572.0       3.0   \n",
       "2020-08-10      37054.0   6411.0  35214.0    956.0  1672.0       3.0   \n",
       "\n",
       "Country     Antigua and Barbuda  Argentina  Armenia  Aruba  ...  \\\n",
       "Date                                                        ...   \n",
       "2020-08-06                 92.0   213535.0  39819.0  132.0  ...   \n",
       "2020-08-07                 92.0   220682.0  39885.0  171.0  ...   \n",
       "2020-08-08                 92.0   228195.0  40185.0  263.0  ...   \n",
       "2020-08-09                 92.0   235677.0  40410.0  263.0  ...   \n",
       "2020-08-10                 92.0   241811.0  40433.0  263.0  ...   \n",
       "\n",
       "Country     United States Virgin Islands  United States of America  Uruguay  \\\n",
       "Date                                                                          \n",
       "2020-08-06                         481.0                 4728239.0   1300.0   \n",
       "2020-08-07                         501.0                 4781612.0   1309.0   \n",
       "2020-08-08                         522.0                 4836930.0   1318.0   \n",
       "2020-08-09                         528.0                 4897958.0   1325.0   \n",
       "2020-08-10                         528.0                 4951851.0   1335.0   \n",
       "\n",
       "Country     Uzbekistan  Venezuela (Bolivarian Republic of)  Viet Nam   Yemen  \\\n",
       "Date                                                                           \n",
       "2020-08-06     28069.0                             21438.0     717.0  1767.0   \n",
       "2020-08-07     28809.0                             22299.0     750.0  1767.0   \n",
       "2020-08-08     29459.0                             23280.0     789.0  1800.0   \n",
       "2020-08-09     30197.0                             24166.0     812.0  1801.0   \n",
       "2020-08-10     30820.0                             24961.0     841.0  1808.0   \n",
       "\n",
       "Country     Zambia  Zimbabwe  \\\n",
       "Date                           \n",
       "2020-08-06  7022.0    4339.0   \n",
       "2020-08-07  7164.0    4395.0   \n",
       "2020-08-08  7164.0    4451.0   \n",
       "2020-08-09  7903.0    4575.0   \n",
       "2020-08-10  8085.0    4649.0   \n",
       "\n",
       "Country     occupied Palestinian territory, including east Jerusalem  \n",
       "Date                                                                  \n",
       "2020-08-06                                            16981.0         \n",
       "2020-08-07                                            17434.0         \n",
       "2020-08-08                                            17948.0         \n",
       "2020-08-09                                            18374.0         \n",
       "2020-08-10                                            18651.0         \n",
       "\n",
       "[5 rows x 216 columns]"
      ]
     },
     "execution_count": 64,
     "metadata": {},
     "output_type": "execute_result"
    }
   ],
   "source": [
    "Covid1= pd.pivot_table(Covid, index='Date',columns='Country', values='Cases')\n",
    "Covid1.tail()"
   ]
  },
  {
   "cell_type": "markdown",
   "metadata": {},
   "source": [
    "step2: Plotting"
   ]
  },
  {
   "cell_type": "code",
   "execution_count": 9,
   "metadata": {},
   "outputs": [
    {
     "data": {
      "image/png": "[encoded data removed]",
      "text/plain": [
       "<Figure size 1080x720 with 1 Axes>"
      ]
     },
     "metadata": {
      "needs_background": "light"
     },
     "output_type": "display_data"
    }
   ],
   "source": [
    "plt.figure(figsize=(15,10))\n",
    "plt.title('Covid_19 Cases')\n",
    "\n",
    "plt.plot(Covid1[\"United States of America\"], linewidth= 4.0)\n",
    "plt.plot(Covid1.Brazil, linewidth= 4.0)\n",
    "plt.plot(Covid1.India, linewidth= 4.0)\n",
    "plt.plot(Covid1['Russian Federation'], linewidth= 4.0)\n",
    "plt.plot(Covid1['South Africa'], linewidth= 4.0)\n",
    "\n",
    "plt.xticks(fontsize=14, fontweight='bold')\n",
    "plt.yticks([1000000,2000000,3000000,4000000,5000000])\n",
    "\n",
    "plt.xlabel('Date')\n",
    "plt.ylabel('No. of Cases')\n",
    "\n",
    "plt.legend(['United States of America','Brazil','India','Russian Federation','South Africa'])\n",
    "\n",
    "plt.show()"
   ]
  },
  {
   "cell_type": "markdown",
   "metadata": {},
   "source": [
    "# Q. Now we'll measure performace of countries in managing the pandemic,we'll see Best and worst 5 performing countries"
   ]
  },
  {
   "cell_type": "markdown",
   "metadata": {},
   "source": [
    "For that we'll calculate percentage of Deaths to the Confirmed cases of Countries for this\n"
   ]
  },
  {
   "cell_type": "markdown",
   "metadata": {},
   "source": [
    "we'll take Data of the latest Date we have for this."
   ]
  },
  {
   "cell_type": "code",
   "execution_count": 53,
   "metadata": {},
   "outputs": [
    {
     "data": {
      "text/html": [
       "<div>\n",
       "<style scoped>\n",
       "    .dataframe tbody tr th:only-of-type {\n",
       "        vertical-align: middle;\n",
       "    }\n",
       "\n",
       "    .dataframe tbody tr th {\n",
       "        vertical-align: top;\n",
       "    }\n",
       "\n",
       "    .dataframe thead th {\n",
       "        text-align: right;\n",
       "    }\n",
       "</style>\n",
       "<table border=\"1\" class=\"dataframe\">\n",
       "  <thead>\n",
       "    <tr style=\"text-align: right;\">\n",
       "      <th></th>\n",
       "      <th>Date</th>\n",
       "      <th>Country</th>\n",
       "      <th>Cases</th>\n",
       "      <th>deaths</th>\n",
       "    </tr>\n",
       "  </thead>\n",
       "  <tbody>\n",
       "    <tr>\n",
       "      <th>0</th>\n",
       "      <td>2020-02-24</td>\n",
       "      <td>Afghanistan</td>\n",
       "      <td>5</td>\n",
       "      <td>0</td>\n",
       "    </tr>\n",
       "    <tr>\n",
       "      <th>1</th>\n",
       "      <td>2020-02-25</td>\n",
       "      <td>Afghanistan</td>\n",
       "      <td>5</td>\n",
       "      <td>0</td>\n",
       "    </tr>\n",
       "    <tr>\n",
       "      <th>2</th>\n",
       "      <td>2020-02-26</td>\n",
       "      <td>Afghanistan</td>\n",
       "      <td>5</td>\n",
       "      <td>0</td>\n",
       "    </tr>\n",
       "    <tr>\n",
       "      <th>3</th>\n",
       "      <td>2020-02-27</td>\n",
       "      <td>Afghanistan</td>\n",
       "      <td>5</td>\n",
       "      <td>0</td>\n",
       "    </tr>\n",
       "    <tr>\n",
       "      <th>4</th>\n",
       "      <td>2020-02-28</td>\n",
       "      <td>Afghanistan</td>\n",
       "      <td>5</td>\n",
       "      <td>0</td>\n",
       "    </tr>\n",
       "  </tbody>\n",
       "</table>\n",
       "</div>"
      ],
      "text/plain": [
       "        Date      Country  Cases  deaths\n",
       "0 2020-02-24  Afghanistan      5       0\n",
       "1 2020-02-25  Afghanistan      5       0\n",
       "2 2020-02-26  Afghanistan      5       0\n",
       "3 2020-02-27  Afghanistan      5       0\n",
       "4 2020-02-28  Afghanistan      5       0"
      ]
     },
     "execution_count": 53,
     "metadata": {},
     "output_type": "execute_result"
    }
   ],
   "source": [
    "Covid = df[[ 'Date_reported','Country','Cumulative_cases','Cumulative_deaths']].copy()\n",
    "Covid = Covid.rename(columns={'Date_reported':'Date'})\n",
    "Covid = Covid.rename(columns={'Cumulative_cases':'Cases'})\n",
    "Covid = Covid.rename(columns={'Cumulative_deaths':'deaths'})\n",
    "Covid.head()"
   ]
  },
  {
   "cell_type": "code",
   "execution_count": 62,
   "metadata": {},
   "outputs": [],
   "source": [
    "affected_min = Covid[Covid.Cases>1000]                     ###Only taking Countries with minimun=1000 infected"
   ]
  },
  {
   "cell_type": "code",
   "execution_count": 55,
   "metadata": {},
   "outputs": [
    {
     "data": {
      "text/html": [
       "<div>\n",
       "<style scoped>\n",
       "    .dataframe tbody tr th:only-of-type {\n",
       "        vertical-align: middle;\n",
       "    }\n",
       "\n",
       "    .dataframe tbody tr th {\n",
       "        vertical-align: top;\n",
       "    }\n",
       "\n",
       "    .dataframe thead th {\n",
       "        text-align: right;\n",
       "    }\n",
       "</style>\n",
       "<table border=\"1\" class=\"dataframe\">\n",
       "  <thead>\n",
       "    <tr style=\"text-align: right;\">\n",
       "      <th></th>\n",
       "      <th>Country</th>\n",
       "      <th>Cases</th>\n",
       "      <th>deaths</th>\n",
       "    </tr>\n",
       "    <tr>\n",
       "      <th>Date</th>\n",
       "      <th></th>\n",
       "      <th></th>\n",
       "      <th></th>\n",
       "    </tr>\n",
       "  </thead>\n",
       "  <tbody>\n",
       "    <tr>\n",
       "      <th>2020-08-10</th>\n",
       "      <td>Afghanistan</td>\n",
       "      <td>37054</td>\n",
       "      <td>1312</td>\n",
       "    </tr>\n",
       "    <tr>\n",
       "      <th>2020-08-10</th>\n",
       "      <td>Albania</td>\n",
       "      <td>6411</td>\n",
       "      <td>199</td>\n",
       "    </tr>\n",
       "    <tr>\n",
       "      <th>2020-08-10</th>\n",
       "      <td>Algeria</td>\n",
       "      <td>35214</td>\n",
       "      <td>1302</td>\n",
       "    </tr>\n",
       "    <tr>\n",
       "      <th>2020-08-10</th>\n",
       "      <td>Angola</td>\n",
       "      <td>1672</td>\n",
       "      <td>75</td>\n",
       "    </tr>\n",
       "    <tr>\n",
       "      <th>2020-08-10</th>\n",
       "      <td>Argentina</td>\n",
       "      <td>241811</td>\n",
       "      <td>4556</td>\n",
       "    </tr>\n",
       "  </tbody>\n",
       "</table>\n",
       "</div>"
      ],
      "text/plain": [
       "                Country   Cases  deaths\n",
       "Date                                   \n",
       "2020-08-10  Afghanistan   37054    1312\n",
       "2020-08-10      Albania    6411     199\n",
       "2020-08-10      Algeria   35214    1302\n",
       "2020-08-10       Angola    1672      75\n",
       "2020-08-10    Argentina  241811    4556"
      ]
     },
     "execution_count": 55,
     "metadata": {},
     "output_type": "execute_result"
    }
   ],
   "source": [
    "affected = affected_min.set_index('Date')\n",
    "affected = affected.loc['2020-08-10']\n",
    "affected.head()"
   ]
  },
  {
   "cell_type": "markdown",
   "metadata": {},
   "source": [
    "### Top5 worst performing Countries\n"
   ]
  },
  {
   "cell_type": "code",
   "execution_count": 56,
   "metadata": {},
   "outputs": [
    {
     "data": {
      "text/html": [
       "<div>\n",
       "<style scoped>\n",
       "    .dataframe tbody tr th:only-of-type {\n",
       "        vertical-align: middle;\n",
       "    }\n",
       "\n",
       "    .dataframe tbody tr th {\n",
       "        vertical-align: top;\n",
       "    }\n",
       "\n",
       "    .dataframe thead th {\n",
       "        text-align: right;\n",
       "    }\n",
       "</style>\n",
       "<table border=\"1\" class=\"dataframe\">\n",
       "  <thead>\n",
       "    <tr style=\"text-align: right;\">\n",
       "      <th></th>\n",
       "      <th>Country</th>\n",
       "      <th>Cases</th>\n",
       "      <th>deaths</th>\n",
       "      <th>percentage</th>\n",
       "    </tr>\n",
       "    <tr>\n",
       "      <th>Date</th>\n",
       "      <th></th>\n",
       "      <th></th>\n",
       "      <th></th>\n",
       "      <th></th>\n",
       "    </tr>\n",
       "  </thead>\n",
       "  <tbody>\n",
       "    <tr>\n",
       "      <th>2020-08-10</th>\n",
       "      <td>Yemen</td>\n",
       "      <td>1808</td>\n",
       "      <td>516</td>\n",
       "      <td>28.539823</td>\n",
       "    </tr>\n",
       "    <tr>\n",
       "      <th>2020-08-10</th>\n",
       "      <td>France</td>\n",
       "      <td>185353</td>\n",
       "      <td>30201</td>\n",
       "      <td>16.293775</td>\n",
       "    </tr>\n",
       "    <tr>\n",
       "      <th>2020-08-10</th>\n",
       "      <td>The United Kingdom</td>\n",
       "      <td>310829</td>\n",
       "      <td>46574</td>\n",
       "      <td>14.983801</td>\n",
       "    </tr>\n",
       "    <tr>\n",
       "      <th>2020-08-10</th>\n",
       "      <td>Italy</td>\n",
       "      <td>250566</td>\n",
       "      <td>35205</td>\n",
       "      <td>14.050190</td>\n",
       "    </tr>\n",
       "    <tr>\n",
       "      <th>2020-08-10</th>\n",
       "      <td>Belgium</td>\n",
       "      <td>74059</td>\n",
       "      <td>9872</td>\n",
       "      <td>13.329913</td>\n",
       "    </tr>\n",
       "  </tbody>\n",
       "</table>\n",
       "</div>"
      ],
      "text/plain": [
       "                       Country   Cases  deaths  percentage\n",
       "Date                                                      \n",
       "2020-08-10               Yemen    1808     516   28.539823\n",
       "2020-08-10              France  185353   30201   16.293775\n",
       "2020-08-10  The United Kingdom  310829   46574   14.983801\n",
       "2020-08-10               Italy  250566   35205   14.050190\n",
       "2020-08-10             Belgium   74059    9872   13.329913"
      ]
     },
     "execution_count": 56,
     "metadata": {},
     "output_type": "execute_result"
    }
   ],
   "source": [
    "affected['percentage']= affected['deaths']/affected['Cases'] * 100\n",
    "affected = affected.sort_values(['percentage'], ascending=[0])\n",
    "affected.head()"
   ]
  },
  {
   "cell_type": "markdown",
   "metadata": {},
   "source": [
    "### Top5 best performing Countries "
   ]
  },
  {
   "cell_type": "code",
   "execution_count": 57,
   "metadata": {},
   "outputs": [
    {
     "data": {
      "text/html": [
       "<div>\n",
       "<style scoped>\n",
       "    .dataframe tbody tr th:only-of-type {\n",
       "        vertical-align: middle;\n",
       "    }\n",
       "\n",
       "    .dataframe tbody tr th {\n",
       "        vertical-align: top;\n",
       "    }\n",
       "\n",
       "    .dataframe thead th {\n",
       "        text-align: right;\n",
       "    }\n",
       "</style>\n",
       "<table border=\"1\" class=\"dataframe\">\n",
       "  <thead>\n",
       "    <tr style=\"text-align: right;\">\n",
       "      <th></th>\n",
       "      <th>Country</th>\n",
       "      <th>Cases</th>\n",
       "      <th>deaths</th>\n",
       "      <th>percentage</th>\n",
       "    </tr>\n",
       "    <tr>\n",
       "      <th>Date</th>\n",
       "      <th></th>\n",
       "      <th></th>\n",
       "      <th></th>\n",
       "      <th></th>\n",
       "    </tr>\n",
       "  </thead>\n",
       "  <tbody>\n",
       "    <tr>\n",
       "      <th>2020-08-10</th>\n",
       "      <td>Bahrain</td>\n",
       "      <td>44011</td>\n",
       "      <td>162</td>\n",
       "      <td>0.368090</td>\n",
       "    </tr>\n",
       "    <tr>\n",
       "      <th>2020-08-10</th>\n",
       "      <td>Rwanda</td>\n",
       "      <td>2140</td>\n",
       "      <td>7</td>\n",
       "      <td>0.327103</td>\n",
       "    </tr>\n",
       "    <tr>\n",
       "      <th>2020-08-10</th>\n",
       "      <td>Nepal</td>\n",
       "      <td>22972</td>\n",
       "      <td>75</td>\n",
       "      <td>0.326484</td>\n",
       "    </tr>\n",
       "    <tr>\n",
       "      <th>2020-08-10</th>\n",
       "      <td>Qatar</td>\n",
       "      <td>112947</td>\n",
       "      <td>184</td>\n",
       "      <td>0.162908</td>\n",
       "    </tr>\n",
       "    <tr>\n",
       "      <th>2020-08-10</th>\n",
       "      <td>Singapore</td>\n",
       "      <td>55104</td>\n",
       "      <td>27</td>\n",
       "      <td>0.048998</td>\n",
       "    </tr>\n",
       "  </tbody>\n",
       "</table>\n",
       "</div>"
      ],
      "text/plain": [
       "              Country   Cases  deaths  percentage\n",
       "Date                                             \n",
       "2020-08-10    Bahrain   44011     162    0.368090\n",
       "2020-08-10     Rwanda    2140       7    0.327103\n",
       "2020-08-10      Nepal   22972      75    0.326484\n",
       "2020-08-10      Qatar  112947     184    0.162908\n",
       "2020-08-10  Singapore   55104      27    0.048998"
      ]
     },
     "execution_count": 57,
     "metadata": {},
     "output_type": "execute_result"
    }
   ],
   "source": [
    "affected.tail()"
   ]
  },
  {
   "cell_type": "markdown",
   "metadata": {},
   "source": [
    "### Let's check India's performance "
   ]
  },
  {
   "cell_type": "code",
   "execution_count": 58,
   "metadata": {},
   "outputs": [
    {
     "data": {
      "text/html": [
       "<div>\n",
       "<style scoped>\n",
       "    .dataframe tbody tr th:only-of-type {\n",
       "        vertical-align: middle;\n",
       "    }\n",
       "\n",
       "    .dataframe tbody tr th {\n",
       "        vertical-align: top;\n",
       "    }\n",
       "\n",
       "    .dataframe thead th {\n",
       "        text-align: right;\n",
       "    }\n",
       "</style>\n",
       "<table border=\"1\" class=\"dataframe\">\n",
       "  <thead>\n",
       "    <tr style=\"text-align: right;\">\n",
       "      <th></th>\n",
       "      <th>Country</th>\n",
       "      <th>Cases</th>\n",
       "      <th>deaths</th>\n",
       "      <th>percentage</th>\n",
       "    </tr>\n",
       "    <tr>\n",
       "      <th>Date</th>\n",
       "      <th></th>\n",
       "      <th></th>\n",
       "      <th></th>\n",
       "      <th></th>\n",
       "    </tr>\n",
       "  </thead>\n",
       "  <tbody>\n",
       "    <tr>\n",
       "      <th>2020-08-10</th>\n",
       "      <td>India</td>\n",
       "      <td>2215074</td>\n",
       "      <td>44386</td>\n",
       "      <td>2.003816</td>\n",
       "    </tr>\n",
       "  </tbody>\n",
       "</table>\n",
       "</div>"
      ],
      "text/plain": [
       "           Country    Cases  deaths  percentage\n",
       "Date                                           \n",
       "2020-08-10   India  2215074   44386    2.003816"
      ]
     },
     "execution_count": 58,
     "metadata": {},
     "output_type": "execute_result"
    }
   ],
   "source": [
    "affected[affected.values == 'India']    ### You can check the performance of any country by replacing it with India"
   ]
  },
  {
   "cell_type": "markdown",
   "metadata": {},
   "source": [
    "# Q. Now let's forecast what will be the total Number of Cases in India in next seven days with the help of FBProphet Module"
   ]
  },
  {
   "cell_type": "code",
   "execution_count": 59,
   "metadata": {},
   "outputs": [],
   "source": [
    "from fbprophet import Prophet         ####importing fbprophet library developed by facebook"
   ]
  },
  {
   "cell_type": "code",
   "execution_count": 60,
   "metadata": {},
   "outputs": [
    {
     "data": {
      "text/plain": [
       "Date\n",
       "2020-08-06    1964536.0\n",
       "2020-08-07    2027074.0\n",
       "2020-08-08    2088611.0\n",
       "2020-08-09    2153010.0\n",
       "2020-08-10    2215074.0\n",
       "Name: India, dtype: float64"
      ]
     },
     "execution_count": 60,
     "metadata": {},
     "output_type": "execute_result"
    }
   ],
   "source": [
    "Covid_In = Covid1['India'].copy()\n",
    "Covid_In.tail()"
   ]
  },
  {
   "cell_type": "code",
   "execution_count": 61,
   "metadata": {},
   "outputs": [],
   "source": [
    "Covid_In=pd.DataFrame(Covid_In)"
   ]
  },
  {
   "cell_type": "code",
   "execution_count": 33,
   "metadata": {},
   "outputs": [
    {
     "data": {
      "text/html": [
       "<div>\n",
       "<style scoped>\n",
       "    .dataframe tbody tr th:only-of-type {\n",
       "        vertical-align: middle;\n",
       "    }\n",
       "\n",
       "    .dataframe tbody tr th {\n",
       "        vertical-align: top;\n",
       "    }\n",
       "\n",
       "    .dataframe thead th {\n",
       "        text-align: right;\n",
       "    }\n",
       "</style>\n",
       "<table border=\"1\" class=\"dataframe\">\n",
       "  <thead>\n",
       "    <tr style=\"text-align: right;\">\n",
       "      <th></th>\n",
       "      <th>Date</th>\n",
       "      <th>India</th>\n",
       "    </tr>\n",
       "  </thead>\n",
       "  <tbody>\n",
       "    <tr>\n",
       "      <th>215</th>\n",
       "      <td>2020-08-06</td>\n",
       "      <td>1964536.0</td>\n",
       "    </tr>\n",
       "    <tr>\n",
       "      <th>216</th>\n",
       "      <td>2020-08-07</td>\n",
       "      <td>2027074.0</td>\n",
       "    </tr>\n",
       "    <tr>\n",
       "      <th>217</th>\n",
       "      <td>2020-08-08</td>\n",
       "      <td>2088611.0</td>\n",
       "    </tr>\n",
       "    <tr>\n",
       "      <th>218</th>\n",
       "      <td>2020-08-09</td>\n",
       "      <td>2153010.0</td>\n",
       "    </tr>\n",
       "    <tr>\n",
       "      <th>219</th>\n",
       "      <td>2020-08-10</td>\n",
       "      <td>2215074.0</td>\n",
       "    </tr>\n",
       "  </tbody>\n",
       "</table>\n",
       "</div>"
      ],
      "text/plain": [
       "          Date      India\n",
       "215 2020-08-06  1964536.0\n",
       "216 2020-08-07  2027074.0\n",
       "217 2020-08-08  2088611.0\n",
       "218 2020-08-09  2153010.0\n",
       "219 2020-08-10  2215074.0"
      ]
     },
     "execution_count": 33,
     "metadata": {},
     "output_type": "execute_result"
    }
   ],
   "source": [
    "Covid_In = Covid_In.reset_index() \n",
    "Covid_In.tail()"
   ]
  },
  {
   "cell_type": "code",
   "execution_count": 34,
   "metadata": {},
   "outputs": [],
   "source": [
    "Covid_In['Date']=pd.to_datetime(Covid_In['Date'])            ### Converrting into a Date time format"
   ]
  },
  {
   "cell_type": "code",
   "execution_count": 38,
   "metadata": {},
   "outputs": [],
   "source": [
    "Covid_In.columns =['ds','y']                                ### Renaming the column names in the format \n",
    "Covid_In['ds'] = pd.to_datetime(Covid_In['ds'])             ### required by FBprophet library "
   ]
  },
  {
   "cell_type": "code",
   "execution_count": 36,
   "metadata": {},
   "outputs": [
    {
     "data": {
      "text/html": [
       "<div>\n",
       "<style scoped>\n",
       "    .dataframe tbody tr th:only-of-type {\n",
       "        vertical-align: middle;\n",
       "    }\n",
       "\n",
       "    .dataframe tbody tr th {\n",
       "        vertical-align: top;\n",
       "    }\n",
       "\n",
       "    .dataframe thead th {\n",
       "        text-align: right;\n",
       "    }\n",
       "</style>\n",
       "<table border=\"1\" class=\"dataframe\">\n",
       "  <thead>\n",
       "    <tr style=\"text-align: right;\">\n",
       "      <th></th>\n",
       "      <th>ds</th>\n",
       "      <th>y</th>\n",
       "    </tr>\n",
       "  </thead>\n",
       "  <tbody>\n",
       "    <tr>\n",
       "      <th>215</th>\n",
       "      <td>2020-08-06</td>\n",
       "      <td>1964536.0</td>\n",
       "    </tr>\n",
       "    <tr>\n",
       "      <th>216</th>\n",
       "      <td>2020-08-07</td>\n",
       "      <td>2027074.0</td>\n",
       "    </tr>\n",
       "    <tr>\n",
       "      <th>217</th>\n",
       "      <td>2020-08-08</td>\n",
       "      <td>2088611.0</td>\n",
       "    </tr>\n",
       "    <tr>\n",
       "      <th>218</th>\n",
       "      <td>2020-08-09</td>\n",
       "      <td>2153010.0</td>\n",
       "    </tr>\n",
       "    <tr>\n",
       "      <th>219</th>\n",
       "      <td>2020-08-10</td>\n",
       "      <td>2215074.0</td>\n",
       "    </tr>\n",
       "  </tbody>\n",
       "</table>\n",
       "</div>"
      ],
      "text/plain": [
       "            ds          y\n",
       "215 2020-08-06  1964536.0\n",
       "216 2020-08-07  2027074.0\n",
       "217 2020-08-08  2088611.0\n",
       "218 2020-08-09  2153010.0\n",
       "219 2020-08-10  2215074.0"
      ]
     },
     "execution_count": 36,
     "metadata": {},
     "output_type": "execute_result"
    }
   ],
   "source": [
    "Covid_In.tail()"
   ]
  },
  {
   "cell_type": "markdown",
   "metadata": {},
   "source": [
    "Initializing the modal"
   ]
  },
  {
   "cell_type": "code",
   "execution_count": 50,
   "metadata": {},
   "outputs": [
    {
     "name": "stderr",
     "output_type": "stream",
     "text": [
      "INFO:fbprophet:Disabling yearly seasonality. Run prophet with yearly_seasonality=True to override this.\n",
      "INFO:fbprophet:Disabling daily seasonality. Run prophet with daily_seasonality=True to override this.\n"
     ]
    },
    {
     "data": {
      "text/html": [
       "<div>\n",
       "<style scoped>\n",
       "    .dataframe tbody tr th:only-of-type {\n",
       "        vertical-align: middle;\n",
       "    }\n",
       "\n",
       "    .dataframe tbody tr th {\n",
       "        vertical-align: top;\n",
       "    }\n",
       "\n",
       "    .dataframe thead th {\n",
       "        text-align: right;\n",
       "    }\n",
       "</style>\n",
       "<table border=\"1\" class=\"dataframe\">\n",
       "  <thead>\n",
       "    <tr style=\"text-align: right;\">\n",
       "      <th></th>\n",
       "      <th>ds</th>\n",
       "    </tr>\n",
       "  </thead>\n",
       "  <tbody>\n",
       "    <tr>\n",
       "      <th>222</th>\n",
       "      <td>2020-08-13</td>\n",
       "    </tr>\n",
       "    <tr>\n",
       "      <th>223</th>\n",
       "      <td>2020-08-14</td>\n",
       "    </tr>\n",
       "    <tr>\n",
       "      <th>224</th>\n",
       "      <td>2020-08-15</td>\n",
       "    </tr>\n",
       "    <tr>\n",
       "      <th>225</th>\n",
       "      <td>2020-08-16</td>\n",
       "    </tr>\n",
       "    <tr>\n",
       "      <th>226</th>\n",
       "      <td>2020-08-17</td>\n",
       "    </tr>\n",
       "  </tbody>\n",
       "</table>\n",
       "</div>"
      ],
      "text/plain": [
       "            ds\n",
       "222 2020-08-13\n",
       "223 2020-08-14\n",
       "224 2020-08-15\n",
       "225 2020-08-16\n",
       "226 2020-08-17"
      ]
     },
     "execution_count": 50,
     "metadata": {},
     "output_type": "execute_result"
    }
   ],
   "source": [
    "m = Prophet(interval_width=1.0)                            ## Width is the Accuracy we can set\n",
    "m.fit(Covid_In)\n",
    "future = m.make_future_dataframe(periods=7)\n",
    "future.tail()"
   ]
  },
  {
   "cell_type": "markdown",
   "metadata": {},
   "source": [
    "#### Prediction"
   ]
  },
  {
   "cell_type": "code",
   "execution_count": 51,
   "metadata": {
    "scrolled": true
   },
   "outputs": [
    {
     "data": {
      "text/html": [
       "<div>\n",
       "<style scoped>\n",
       "    .dataframe tbody tr th:only-of-type {\n",
       "        vertical-align: middle;\n",
       "    }\n",
       "\n",
       "    .dataframe tbody tr th {\n",
       "        vertical-align: top;\n",
       "    }\n",
       "\n",
       "    .dataframe thead th {\n",
       "        text-align: right;\n",
       "    }\n",
       "</style>\n",
       "<table border=\"1\" class=\"dataframe\">\n",
       "  <thead>\n",
       "    <tr style=\"text-align: right;\">\n",
       "      <th></th>\n",
       "      <th>ds</th>\n",
       "      <th>yhat</th>\n",
       "      <th>yhat_lower</th>\n",
       "      <th>yhat_upper</th>\n",
       "    </tr>\n",
       "  </thead>\n",
       "  <tbody>\n",
       "    <tr>\n",
       "      <th>222</th>\n",
       "      <td>2020-08-13</td>\n",
       "      <td>2.156391e+06</td>\n",
       "      <td>2.031516e+06</td>\n",
       "      <td>2.256337e+06</td>\n",
       "    </tr>\n",
       "    <tr>\n",
       "      <th>223</th>\n",
       "      <td>2020-08-14</td>\n",
       "      <td>2.196407e+06</td>\n",
       "      <td>2.081745e+06</td>\n",
       "      <td>2.319731e+06</td>\n",
       "    </tr>\n",
       "    <tr>\n",
       "      <th>224</th>\n",
       "      <td>2020-08-15</td>\n",
       "      <td>2.236633e+06</td>\n",
       "      <td>2.110291e+06</td>\n",
       "      <td>2.364295e+06</td>\n",
       "    </tr>\n",
       "    <tr>\n",
       "      <th>225</th>\n",
       "      <td>2020-08-16</td>\n",
       "      <td>2.277311e+06</td>\n",
       "      <td>2.171544e+06</td>\n",
       "      <td>2.397102e+06</td>\n",
       "    </tr>\n",
       "    <tr>\n",
       "      <th>226</th>\n",
       "      <td>2020-08-17</td>\n",
       "      <td>2.317843e+06</td>\n",
       "      <td>2.197560e+06</td>\n",
       "      <td>2.427710e+06</td>\n",
       "    </tr>\n",
       "  </tbody>\n",
       "</table>\n",
       "</div>"
      ],
      "text/plain": [
       "            ds          yhat    yhat_lower    yhat_upper\n",
       "222 2020-08-13  2.156391e+06  2.031516e+06  2.256337e+06\n",
       "223 2020-08-14  2.196407e+06  2.081745e+06  2.319731e+06\n",
       "224 2020-08-15  2.236633e+06  2.110291e+06  2.364295e+06\n",
       "225 2020-08-16  2.277311e+06  2.171544e+06  2.397102e+06\n",
       "226 2020-08-17  2.317843e+06  2.197560e+06  2.427710e+06"
      ]
     },
     "execution_count": 51,
     "metadata": {},
     "output_type": "execute_result"
    }
   ],
   "source": [
    "forecast = m.predict(future)\n",
    "forecast[['ds','yhat','yhat_lower','yhat_upper']].tail()"
   ]
  },
  {
   "cell_type": "markdown",
   "metadata": {},
   "source": [
    "here,    In Millions\n",
    "\n",
    "     yhat= predicted cases \n",
    "     yhat_lower= Lower limit of Cases\n",
    "     yhat_upper= upper limit of Cases"
   ]
  },
  {
   "cell_type": "markdown",
   "metadata": {},
   "source": [
    "#### Plotting the Prediction"
   ]
  },
  {
   "cell_type": "code",
   "execution_count": 63,
   "metadata": {},
   "outputs": [
    {
     "data": {
      "image/png": "[encoded data removed]",
      "text/plain": [
       "<Figure size 720x432 with 1 Axes>"
      ]
     },
     "metadata": {},
     "output_type": "display_data"
    }
   ],
   "source": [
    "figure = m.plot(forecast)"
   ]
  },
  {
   "cell_type": "markdown",
   "metadata": {},
   "source": [
    "### Now here,\n",
    "##### 'BLACK DOTS'= Actual Number of cases on that date\n",
    "##### 'BLUE LINE' = Prediction of cases According to Trend\n",
    "#####  'BLUE SHADED REGION' = lower and Upper limits of the cases"
   ]
  }
 ],
 "metadata": {
  "kernelspec": {
   "display_name": "Python 3",
   "language": "python",
   "name": "python3"
  },
  "language_info": {
   "codemirror_mode": {
    "name": "ipython",
    "version": 3
   },
   "file_extension": ".py",
   "mimetype": "text/x-python",
   "name": "python",
   "nbconvert_exporter": "python",
   "pygments_lexer": "ipython3",
   "version": "3.8.3"
  }
 },
 "nbformat": 4,
 "nbformat_minor": 4
}
